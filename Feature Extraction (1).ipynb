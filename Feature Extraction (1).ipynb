{
 "cells": [
  {
   "cell_type": "code",
   "execution_count": 20,
   "metadata": {},
   "outputs": [],
   "source": [
    "from skimage.feature import hog\n",
    "from skimage.feature import local_binary_pattern\n",
    "import cv2 \n",
    "import os\n",
    "import numpy as np\n",
    "from sklearn import svm\n",
    "from sklearn.metrics import classification_report,accuracy_score"
   ]
  },
  {
   "cell_type": "code",
   "execution_count": 50,
   "metadata": {},
   "outputs": [],
   "source": [
    "# method to create data set\n",
    "def create_dataset(live_path, spoof_path, descriptor):\n",
    "    \n",
    "    # list to store extracted features of an image\n",
    "    features = []\n",
    "    \n",
    "    # list to store class label, 1 for live, 0 for spoof\n",
    "    labels = []    \n",
    "    \n",
    "    radius = 3\n",
    "    \n",
    "    # number of neighbors to consider for LBP\n",
    "    n_points = 8 * radius \n",
    "    \n",
    "    # sampling type for LBP\n",
    "    METHOD = 'uniform'       \n",
    "    \n",
    "    path_array = [live_path, spoof_path]\n",
    "    \n",
    "    for path in path_array:\n",
    "        \n",
    "        # storing all images in a folder in a list 'files'\n",
    "        files = os.listdir(path) \n",
    "        # loop through the images in the folder\n",
    "        for img in files:\n",
    "#             print(path + img)\n",
    "            # reading the image in grayscale using cv2\n",
    "            img = cv2.imread(path +'/'+ img, cv2.IMREAD_GRAYSCALE)\n",
    "            \n",
    "            # resizing the image so all images are of same size\n",
    "            resized_img = cv2.resize(img, (100, 100))  \n",
    "            \n",
    "            # Extracting features of an image using LBP\n",
    "            if descriptor == 'LBP':    \n",
    "                lbp = local_binary_pattern(resized_img, n_points, radius, METHOD)\n",
    "                \n",
    "                 # Converting into 1-D array\n",
    "                fd=lbp.flatten()\n",
    "                \n",
    "            # Extracting features of an image using HOG     \n",
    "            else: \n",
    "                fd, hog_image = hog(resized_img, orientations=9, pixels_per_cell=(8, 8),\n",
    "                                cells_per_block=(2, 2), visualize=True, multichannel=False)\n",
    "                \n",
    "            # label 1 for live images, 0 for spoof images\n",
    "            class_identifier = 1         \n",
    "            if 'spoof' in path:\n",
    "                class_identifier = 0\n",
    "                \n",
    "             # appending exracted features to the list\n",
    "            features.append(fd) \n",
    "            \n",
    "            #adding corresponding class label to the list\n",
    "            labels.append(class_identifier)  \n",
    "           \n",
    "                   \n",
    "    return features,labels\n"
   ]
  },
  {
   "cell_type": "code",
   "execution_count": 51,
   "metadata": {},
   "outputs": [],
   "source": [
    "# variables for differet folders\n",
    "training_live_path = r\"C:/Users/Harsha Bidrae/Desktop/Master's/Spring 2022/Image and computer vision/Assn_2/Training Biometrika Live/live\"\n",
    "training_spoof_path = r\"C:/Users/Harsha Bidrae/Desktop/Master's/Spring 2022/Image and computer vision/Assn_2/Training Biometrika Spoof/Training Biometrika Spoof/spoof\"\n",
    "testing_live_path = r\"C:/Users/Harsha Bidrae/Desktop/Master's/Spring 2022/Image and computer vision/Assn_2/Testing Biometrika Live/live\"\n",
    "testing_spoof_path = r\"C:/Users/Harsha Bidrae/Desktop/Master's/Spring 2022/Image and computer vision/Assn_2/Training Biometrika Spoof/Training Biometrika Spoof/spoof\""
   ]
  },
  {
   "cell_type": "code",
   "execution_count": 52,
   "metadata": {},
   "outputs": [
    {
     "name": "stdout",
     "output_type": "stream",
     "text": [
      "LBP Accuracy: 0.8820638820638821\n",
      "\n",
      "\n",
      "              precision    recall  f1-score   support\n",
      "\n",
      "           0       0.81      1.00      0.90       207\n",
      "           1       1.00      0.76      0.86       200\n",
      "\n",
      "    accuracy                           0.88       407\n",
      "   macro avg       0.91      0.88      0.88       407\n",
      "weighted avg       0.90      0.88      0.88       407\n",
      "\n"
     ]
    }
   ],
   "source": [
    "# LBP \n",
    "\n",
    "# Training and testing datasets\n",
    "lbp_x_trn,lbp_y_trn = create_dataset(training_live_path,training_spoof_path, 'LBP') \n",
    "lbp_x_tst,lbp_y_tst = create_dataset(testing_live_path,testing_spoof_path, 'LBP')\n",
    "\n",
    "# Create and fit the model\n",
    "lbp_clf = svm.SVC()\n",
    "lbp_clf.fit(lbp_x_trn,lbp_y_trn)\n",
    "\n",
    "# Predict on the test features, print the results\n",
    "lbp_y_pred = lbp_clf.predict(lbp_x_tst)\n",
    "print(\"LBP Accuracy: \"+str(accuracy_score(lbp_y_tst, lbp_y_pred)))\n",
    "print('\\n')\n",
    "print(classification_report(lbp_y_tst, lbp_y_pred))"
   ]
  },
  {
   "cell_type": "code",
   "execution_count": null,
   "metadata": {},
   "outputs": [],
   "source": [
    "#HOG\n",
    "\n",
    "# Training and testing datasets\n",
    "hog_x_trn,hog_y_trn = create_dataset(training_live_path,training_spoof_path, 'HOG')\n",
    "hog_x_tst,hog_y_tst = create_dataset(testing_live_path,testing_spoof_path, 'HOG')\n",
    "\n",
    "# Create and fit the model\n",
    "hog_clf = svm.SVC()\n",
    "hog_clf.fit(hog_x_trn,hog_y_trn)\n",
    "\n",
    "# Predict on the test features, print the results\n",
    "hog_y_pred = hog_clf.predict(hog_x_tst)\n",
    "print(\" HOG Accuracy: \"+str(accuracy_score(hog_y_tst, hog_y_pred)))\n",
    "print('\\n')\n",
    "print(classification_report(hog_y_tst, hog_y_pred))"
   ]
  },
  {
   "cell_type": "code",
   "execution_count": null,
   "metadata": {},
   "outputs": [],
   "source": []
  }
 ],
 "metadata": {
  "kernelspec": {
   "display_name": "Python 3 (ipykernel)",
   "language": "python",
   "name": "python3"
  },
  "language_info": {
   "codemirror_mode": {
    "name": "ipython",
    "version": 3
   },
   "file_extension": ".py",
   "mimetype": "text/x-python",
   "name": "python",
   "nbconvert_exporter": "python",
   "pygments_lexer": "ipython3",
   "version": "3.7.11"
  }
 },
 "nbformat": 4,
 "nbformat_minor": 4
}
